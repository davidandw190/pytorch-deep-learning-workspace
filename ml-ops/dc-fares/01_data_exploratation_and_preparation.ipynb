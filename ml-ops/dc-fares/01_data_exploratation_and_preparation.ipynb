{
  "nbformat": 4,
  "nbformat_minor": 0,
  "metadata": {
    "colab": {
      "provenance": [],
      "authorship_tag": "ABX9TyNX/gE/pMz89RnI9dOPdpAF"
    },
    "kernelspec": {
      "name": "python3",
      "display_name": "Python 3"
    },
    "language_info": {
      "name": "python"
    }
  },
  "cells": [
    {
      "cell_type": "markdown",
      "source": [
        "# **ML-Ops | DC Taxi Fares**\n",
        "\n",
        "## 01 - Data Exploration & Preparation\n",
        "\n",
        "### The `BUCKET_ID` file\n",
        "\n",
        "This notebook assumes that fact that you have a backup copy of the `BUCKET_ID` file created in the prior notebook before proceeding. The contents of the `BUCKET_ID` file are reused later in this notebook and in the other notebooks."
      ],
      "metadata": {
        "id": "DLbQlK6_D9F1"
      }
    },
    {
      "cell_type": "code",
      "source": [
        "import os\n",
        "from pathlib import Path\n",
        "assert Path('BUCKET_ID').exists(), \"Place the BUCKET_ID file in the current directory before proceeding\"\n",
        "\n",
        "BUCKET_ID = Path('BUCKET_ID').read_text().strip()\n",
        "os.environ['BUCKET_ID'] = BUCKET_ID\n",
        "os.environ['BUCKET_ID']"
      ],
      "metadata": {
        "id": "Vm9Omp0iEuCE"
      },
      "execution_count": null,
      "outputs": []
    },
    {
      "cell_type": "markdown",
      "source": [
        "### Conifigure AWS Credentials\n",
        "\n",
        "Modify the contents of the next cell to specify your AWS credentials as strings.\n",
        "\n",
        "If you see the following exception:\n",
        "\n",
        "`TypeError: str expected, not NoneType`\n",
        "\n",
        "It means that you did not specify the credentials correctly."
      ],
      "metadata": {
        "id": "2URGuQvrEtei"
      }
    },
    {
      "cell_type": "code",
      "source": [
        "import os\n",
        "# *** REPLACE None in the next 2 lines with your AWS key values ***\n",
        "os.environ['AWS_ACCESS_KEY_ID'] = None\n",
        "os.environ['AWS_SECRET_ACCESS_KEY'] = None"
      ],
      "metadata": {
        "id": "SOB_yWV_VoV7"
      },
      "execution_count": null,
      "outputs": []
    },
    {
      "cell_type": "markdown",
      "source": [
        "Run the next cell to validate your credentials.\n"
      ],
      "metadata": {
        "id": "uStRj3PZVyhQ"
      }
    },
    {
      "cell_type": "code",
      "source": [
        "%%bash\n",
        "aws sts get-caller-identity"
      ],
      "metadata": {
        "id": "E1lGpACFV055"
      },
      "execution_count": null,
      "outputs": []
    },
    {
      "cell_type": "markdown",
      "source": [
        "### Specify the region\n",
        "\n",
        "Replace the None in the next cell with your AWS region name, for example `eu-north-1`."
      ],
      "metadata": {
        "id": "y0LIwjV1V1U-"
      }
    },
    {
      "cell_type": "code",
      "source": [
        "# *** REPLACE None in the next line with your AWS region ***\n",
        "os.environ['AWS_DEFAULT_REGION'] = None"
      ],
      "metadata": {
        "id": "swef_AqPWGM8"
      },
      "execution_count": null,
      "outputs": []
    },
    {
      "cell_type": "code",
      "source": [
        "%%bash\n",
        "echo $AWS_DEFAULT_REGION"
      ],
      "metadata": {
        "id": "KIm8CULbWH0y"
      },
      "execution_count": null,
      "outputs": []
    },
    {
      "cell_type": "markdown",
      "source": [
        "### Downloading a tiny sample\n",
        "\n",
        "Download a tiny sample of the dataset from https://gist.github.com/osipov/1fc0265f8f829d9d9eee8393657423a9 to a `trips_sample.csv` file which you are going to use to learn about using the Athena interface."
      ],
      "metadata": {
        "id": "cuhwMwJIWJnh"
      }
    },
    {
      "cell_type": "code",
      "source": [
        "%%bash\n",
        "wget -q https://gist.githubusercontent.com/osipov/1fc0265f8f829d9d9eee8393657423a9/raw/9957c1f09cdfa64f8b8d89cfec532a0e150d5178/trips_sample.csv\n",
        "ls -ltr trips_sample.csv\n",
        "cat trips_sample.csv"
      ],
      "metadata": {
        "id": "9fOo3WzgWV__"
      },
      "execution_count": null,
      "outputs": []
    },
    {
      "cell_type": "markdown",
      "source": [
        "### Uploading `trips_sample.csv` to S3 bucket"
      ],
      "metadata": {
        "id": "qYxWfOGyWZBN"
      }
    },
    {
      "cell_type": "code",
      "source": [
        "%%bash\n",
        "aws s3 cp trips_sample.csv s3://dc-taxi-$BUCKET_ID-$AWS_DEFAULT_REGION/samples/trips_sample.csv\n",
        "aws s3 ls s3://dc-taxi-$BUCKET_ID-$AWS_DEFAULT_REGION/samples/trips_sample.csv"
      ],
      "metadata": {
        "id": "WppganSqWkJb"
      },
      "execution_count": null,
      "outputs": []
    }
  ]
}