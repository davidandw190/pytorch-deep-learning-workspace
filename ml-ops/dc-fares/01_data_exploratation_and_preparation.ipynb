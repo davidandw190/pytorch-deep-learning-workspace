{
  "nbformat": 4,
  "nbformat_minor": 0,
  "metadata": {
    "colab": {
      "provenance": [],
      "authorship_tag": "ABX9TyMupdP3+AEIfXyu2o6FW9BT",
      "include_colab_link": true
    },
    "kernelspec": {
      "name": "python3",
      "display_name": "Python 3"
    },
    "language_info": {
      "name": "python"
    }
  },
  "cells": [
    {
      "cell_type": "markdown",
      "metadata": {
        "id": "view-in-github",
        "colab_type": "text"
      },
      "source": [
        "<a href=\"https://colab.research.google.com/github/davidandw190/pytorch-deep-learning-workspace/blob/main/ml-ops/dc-fares/01_data_exploratation_and_preparation.ipynb\" target=\"_parent\"><img src=\"https://colab.research.google.com/assets/colab-badge.svg\" alt=\"Open In Colab\"/></a>"
      ]
    },
    {
      "cell_type": "markdown",
      "source": [
        "# **ML-Ops | DC Taxi Fares**\n",
        "\n",
        "## 01 - Data Exploration & Preparation\n",
        "\n",
        "### The `BUCKET_ID` file\n",
        "\n",
        "This notebook assumes that fact that you have a backup copy of the `BUCKET_ID` file created in the prior notebook before proceeding. The contents of the `BUCKET_ID` file are reused later in this notebook and in the other notebooks."
      ],
      "metadata": {
        "id": "DLbQlK6_D9F1"
      }
    },
    {
      "cell_type": "code",
      "source": [
        "import os\n",
        "from pathlib import Path\n",
        "assert Path('BUCKET_ID').exists(), \"Place the BUCKET_ID file in the current directory before proceeding\"\n",
        "\n",
        "BUCKET_ID = Path('BUCKET_ID').read_text().strip()\n",
        "os.environ['BUCKET_ID'] = BUCKET_ID\n",
        "os.environ['BUCKET_ID']"
      ],
      "metadata": {
        "id": "Vm9Omp0iEuCE"
      },
      "execution_count": null,
      "outputs": []
    },
    {
      "cell_type": "markdown",
      "source": [
        "### Conifigure AWS Credentials\n",
        "\n",
        "Modify the contents of the next cell to specify your AWS credentials as strings.\n",
        "\n",
        "If you see the following exception:\n",
        "\n",
        "`TypeError: str expected, not NoneType`\n",
        "\n",
        "It means that you did not specify the credentials correctly."
      ],
      "metadata": {
        "id": "2URGuQvrEtei"
      }
    },
    {
      "cell_type": "code",
      "source": [
        "import os\n",
        "# *** REPLACE None in the next 2 lines with your AWS key values ***\n",
        "os.environ['AWS_ACCESS_KEY_ID'] = None\n",
        "os.environ['AWS_SECRET_ACCESS_KEY'] = None"
      ],
      "metadata": {
        "id": "SOB_yWV_VoV7"
      },
      "execution_count": null,
      "outputs": []
    },
    {
      "cell_type": "markdown",
      "source": [
        "Run the next cell to validate your credentials.\n"
      ],
      "metadata": {
        "id": "uStRj3PZVyhQ"
      }
    },
    {
      "cell_type": "code",
      "source": [
        "%%bash\n",
        "aws sts get-caller-identity"
      ],
      "metadata": {
        "id": "E1lGpACFV055"
      },
      "execution_count": null,
      "outputs": []
    },
    {
      "cell_type": "markdown",
      "source": [
        "### Specify the region\n",
        "\n",
        "Replace the None in the next cell with your AWS region name, for example `eu-north-1`."
      ],
      "metadata": {
        "id": "y0LIwjV1V1U-"
      }
    },
    {
      "cell_type": "code",
      "source": [
        "# *** REPLACE None in the next line with your AWS region ***\n",
        "os.environ['AWS_DEFAULT_REGION'] = None"
      ],
      "metadata": {
        "id": "swef_AqPWGM8"
      },
      "execution_count": null,
      "outputs": []
    },
    {
      "cell_type": "code",
      "source": [
        "%%bash\n",
        "echo $AWS_DEFAULT_REGION"
      ],
      "metadata": {
        "id": "KIm8CULbWH0y"
      },
      "execution_count": null,
      "outputs": []
    },
    {
      "cell_type": "markdown",
      "source": [
        "### Downloading a tiny sample\n",
        "\n",
        "Download a tiny sample of the dataset from https://gist.github.com/osipov/1fc0265f8f829d9d9eee8393657423a9 to a `trips_sample.csv` file which you are going to use to learn about using the Athena interface."
      ],
      "metadata": {
        "id": "cuhwMwJIWJnh"
      }
    },
    {
      "cell_type": "code",
      "source": [
        "%%bash\n",
        "wget -q https://gist.githubusercontent.com/osipov/1fc0265f8f829d9d9eee8393657423a9/raw/9957c1f09cdfa64f8b8d89cfec532a0e150d5178/trips_sample.csv\n",
        "ls -ltr trips_sample.csv\n",
        "cat trips_sample.csv"
      ],
      "metadata": {
        "id": "9fOo3WzgWV__"
      },
      "execution_count": null,
      "outputs": []
    },
    {
      "cell_type": "markdown",
      "source": [
        "### Uploading `trips_sample.csv` to S3 bucket"
      ],
      "metadata": {
        "id": "qYxWfOGyWZBN"
      }
    },
    {
      "cell_type": "code",
      "source": [
        "%%bash\n",
        "aws s3 cp trips_sample.csv s3://dc-taxi-$BUCKET_ID-$AWS_DEFAULT_REGION/samples/trips_sample.csv\n",
        "aws s3 ls s3://dc-taxi-$BUCKET_ID-$AWS_DEFAULT_REGION/samples/trips_sample.csv"
      ],
      "metadata": {
        "id": "WppganSqWkJb"
      },
      "execution_count": null,
      "outputs": []
    },
    {
      "cell_type": "markdown",
      "source": [
        "### Creating an Athena workgroup"
      ],
      "metadata": {
        "id": "_z9-kI4ZX6rZ"
      }
    },
    {
      "cell_type": "code",
      "source": [
        "%%bash\n",
        "aws athena delete-work-group --work-group dc_taxi_athena_workgroup --recursive-delete-option 2> /dev/null\n",
        "aws athena create-work-group --name dc_taxi_athena_workgroup \\\n",
        "--configuration \"ResultConfiguration={OutputLocation=s3://dc-taxi-$BUCKET_ID-$AWS_DEFAULT_REGION/athena},EnforceWorkGroupConfiguration=false,PublishCloudWatchMetricsEnabled=false\""
      ],
      "metadata": {
        "id": "jsrRKNC2YC1c"
      },
      "execution_count": null,
      "outputs": []
    },
    {
      "cell_type": "markdown",
      "source": [
        "### Querying Athena and Reporting on Query Status"
      ],
      "metadata": {
        "id": "mz0aOVZxYPFg"
      }
    },
    {
      "cell_type": "code",
      "source": [
        "%%bash\n",
        "SQL=\"\n",
        "CREATE EXTERNAL TABLE IF NOT EXISTS dc_taxi_db.dc_taxi_csv_sample_strings(\n",
        "        fareamount STRING,\n",
        "        origin_block_latitude STRING,\n",
        "        origin_block_longitude STRING,\n",
        "        destination_block_latitude STRING,\n",
        "        destination_block_longitude STRING\n",
        ")\n",
        "ROW FORMAT DELIMITED FIELDS TERMINATED BY ','\n",
        "LOCATION 's3://dc-taxi-$BUCKET_ID-$AWS_DEFAULT_REGION/samples/'\n",
        "TBLPROPERTIES ('skip.header.line.count'='1');\"\n",
        "\n",
        "ATHENA_QUERY_ID=$(aws athena start-query-execution \\\n",
        "--work-group dc_taxi_athena_workgroup \\\n",
        "--query 'QueryExecutionId' \\\n",
        "--output text \\\n",
        "--query-string \"$SQL\")\n",
        "\n",
        "echo $SQL\n",
        "\n",
        "echo $ATHENA_QUERY_ID\n",
        "until aws athena get-query-execution \\\n",
        "--query 'QueryExecution.Status.State' \\\n",
        "--output text \\\n",
        "--query-execution-id $ATHENA_QUERY_ID | grep -v \"RUNNING\";\n",
        "do\n",
        "printf '.'\n",
        "sleep 1;\n",
        "done"
      ],
      "metadata": {
        "id": "GqZWae55YTcU"
      },
      "execution_count": null,
      "outputs": []
    },
    {
      "cell_type": "markdown",
      "source": [
        "### Downloading and Previewing a Utility Script to Query Athena\n",
        "\n",
        "The script is downloaded as `utils.sh` and is loaded in the upcoming cells using `source utils.sh` command."
      ],
      "metadata": {
        "id": "2AoYGsUWZB6X"
      }
    },
    {
      "cell_type": "code",
      "source": [
        "%%bash\n",
        "wget -q https://raw.githubusercontent.com/osipov/smlbook/master/utils.sh\n",
        "ls -l utils.sh"
      ],
      "metadata": {
        "id": "LLw6-vZPZWsB"
      },
      "execution_count": null,
      "outputs": []
    },
    {
      "cell_type": "markdown",
      "source": [
        "### Outputing Athena Query to a Text Table\n"
      ],
      "metadata": {
        "id": "unHw9IxtZMVh"
      }
    },
    {
      "cell_type": "code",
      "source": [
        "%%bash\n",
        "source utils.sh\n",
        "SQL=\"\n",
        "SELECT\n",
        "\n",
        "origin_block_latitude || ' , ' || origin_block_longitude\n",
        "    AS origin,\n",
        "\n",
        "destination_block_latitude || '  , ' || destination_block_longitude\n",
        "    AS destination\n",
        "\n",
        "FROM\n",
        "    dc_taxi_db.dc_taxi_csv_sample_strings\n",
        "\"\n",
        "athena_query_to_table \"$SQL\" \"ResultSet.Rows[*].[Data[0].VarCharValue,Data[1].VarCharValue]\""
      ],
      "metadata": {
        "id": "7RiYh3h8ZVBZ"
      },
      "execution_count": null,
      "outputs": []
    },
    {
      "cell_type": "markdown",
      "source": [
        "### Outputing Athena Query to JSON for a Pandas DataFrame\n",
        "\n"
      ],
      "metadata": {
        "id": "WjMtLsLnZdeA"
      }
    },
    {
      "cell_type": "code",
      "source": [
        "%%bash\n",
        "source utils.sh ; athena_query_to_pandas \"\"\"\n",
        "SELECT\n",
        "\n",
        "origin_block_latitude || ' , ' || origin_block_longitude\n",
        "    AS origin,\n",
        "\n",
        "destination_block_latitude || '  , ' || destination_block_longitude\n",
        "    AS destination\n",
        "\n",
        "FROM\n",
        "    dc_taxi_db.dc_taxi_csv_sample_strings\n",
        "\"\"\""
      ],
      "metadata": {
        "id": "zGd8cK8WZhWF"
      },
      "execution_count": null,
      "outputs": []
    },
    {
      "cell_type": "markdown",
      "source": [
        "### Creating a Utility Function to Read AWS CLI JSON as Pandas\n",
        "\n",
        "*Note that the `utils.sh` script saves the output from Athena to `/tmp/awscli.json`"
      ],
      "metadata": {
        "id": "jFU_tekjey8z"
      }
    },
    {
      "cell_type": "code",
      "source": [
        "import pandas as pd\n",
        "def awscli_to_df():\n",
        "  json_df = pd.read_json('/tmp/awscli.json')\n",
        "  df = pd.DataFrame(json_df[0].tolist(), index = json_df.index, columns = json_df[0].tolist()[0]).drop(0, axis = 0)\n",
        "  return df"
      ],
      "metadata": {
        "id": "TXL0X2RXe-zk"
      },
      "execution_count": null,
      "outputs": []
    },
    {
      "cell_type": "code",
      "source": [
        "awscli_to_df()"
      ],
      "metadata": {
        "id": "AIPuqfZSfFNU"
      },
      "execution_count": null,
      "outputs": []
    },
    {
      "cell_type": "markdown",
      "source": [
        "### Applying Athena schema-on-read with columns as DOUBLE"
      ],
      "metadata": {
        "id": "3pOMUONefHo9"
      }
    },
    {
      "cell_type": "code",
      "source": [
        "%%bash\n",
        "source utils.sh ; athena_query \"\n",
        "CREATE EXTERNAL TABLE IF NOT EXISTS dc_taxi_db.dc_taxi_csv_sample_double(\n",
        "        fareamount DOUBLE,\n",
        "        origin_block_latitude DOUBLE,\n",
        "        origin_block_longitude DOUBLE,\n",
        "        destination_block_latitude DOUBLE,\n",
        "        destination_block_longitude DOUBLE\n",
        ")\n",
        "ROW FORMAT DELIMITED FIELDS TERMINATED BY ','\n",
        "LOCATION 's3://dc-taxi-\n",
        "AWS_DEFAULT_REGION/samples/'\n",
        "TBLPROPERTIES ('skip.header.line.count'='1');"
      ],
      "metadata": {
        "id": "qlh4U9Oog4QD"
      },
      "execution_count": null,
      "outputs": []
    },
    {
      "cell_type": "code",
      "source": [
        "%%bash\n",
        "source utils.sh ; athena_query_to_pandas \"\n",
        "SELECT ROUND(MAX(fareamount) - MIN(fareamount), 2)\n",
        "FROM dc_taxi_db.dc_taxi_csv_sample_double\n",
        "\""
      ],
      "metadata": {
        "id": "FIMWLSHEg47l"
      },
      "execution_count": null,
      "outputs": []
    },
    {
      "cell_type": "code",
      "source": [
        "awscli_to_df()"
      ],
      "metadata": {
        "id": "Rh60l6yyg7os"
      },
      "execution_count": null,
      "outputs": []
    }
  ]
}